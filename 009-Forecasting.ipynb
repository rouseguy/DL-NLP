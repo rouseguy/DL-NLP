{
 "cells": [
  {
   "cell_type": "code",
   "execution_count": 4,
   "metadata": {},
   "outputs": [],
   "source": [
    "# load and plot dataset\n",
    "from pandas import read_csv\n",
    "from pandas import datetime\n",
    "from matplotlib import pyplot\n",
    "%matplotlib inline"
   ]
  },
  {
   "cell_type": "code",
   "execution_count": 5,
   "metadata": {},
   "outputs": [
    {
     "name": "stdout",
     "output_type": "stream",
     "text": [
      "Month\n",
      "1901-01-01    266.0\n",
      "1901-02-01    145.9\n",
      "1901-03-01    183.1\n",
      "1901-04-01    119.3\n",
      "1901-05-01    180.3\n",
      "Name: Sales, dtype: float64\n"
     ]
    }
   ],
   "source": [
    "# load dataset\n",
    "def parser(x):\n",
    "\treturn datetime.strptime('190'+x, '%Y-%m')\n",
    "series = read_csv('data/shampoo.csv', header=0, parse_dates=[0], index_col=0, squeeze=True, date_parser=parser)\n",
    "# summarize first few rows\n",
    "print(series.head())"
   ]
  },
  {
   "cell_type": "code",
   "execution_count": 6,
   "metadata": {},
   "outputs": [
    {
     "data": {
      "image/png": "[encoded data removed]",
      "text/plain": [
       "<Figure size 432x288 with 1 Axes>"
      ]
     },
     "metadata": {
      "needs_background": "light"
     },
     "output_type": "display_data"
    }
   ],
   "source": [
    "# line plot\n",
    "series.plot()\n",
    "pyplot.show()"
   ]
  },
  {
   "cell_type": "markdown",
   "metadata": {},
   "source": [
    "### Baseline Model"
   ]
  },
  {
   "cell_type": "code",
   "execution_count": 11,
   "metadata": {},
   "outputs": [],
   "source": [
    "from pandas import DataFrame\n",
    "from pandas import Series\n",
    "from pandas import concat\n",
    "from pandas import read_csv\n",
    "from pandas import datetime\n",
    "from sklearn.metrics import mean_squared_error\n",
    "from sklearn.preprocessing import MinMaxScaler\n",
    "from tensorflow.keras.models import Sequential\n",
    "from tensorflow.keras.layers import Dense\n",
    "from tensorflow.keras.layers import LSTM\n",
    "from math import sqrt\n",
    "import matplotlib\n",
    "# be able to save images on server\n",
    "matplotlib.use('Agg')\n",
    "from matplotlib import pyplot\n",
    "import numpy"
   ]
  },
  {
   "cell_type": "code",
   "execution_count": 11,
   "metadata": {},
   "outputs": [],
   "source": [
    "# date-time parsing function for loading the dataset\n",
    "def parser(x):\n",
    "\treturn datetime.strptime('190'+x, '%Y-%m')"
   ]
  },
  {
   "cell_type": "code",
   "execution_count": 11,
   "metadata": {},
   "outputs": [],
   "source": [
    "# frame a sequence as a supervised learning problem\n",
    "def timeseries_to_supervised(data, lag=1):\n",
    "\tdf = DataFrame(data)\n",
    "\tcolumns = [df.shift(i) for i in range(1, lag+1)]\n",
    "\tcolumns.append(df)\n",
    "\tdf = concat(columns, axis=1)\n",
    "\treturn df"
   ]
  },
  {
   "cell_type": "code",
   "execution_count": 11,
   "metadata": {},
   "outputs": [],
   "source": [
    "# create a differenced series\n",
    "def difference(dataset, interval=1):\n",
    "\tdiff = list()\n",
    "\tfor i in range(interval, len(dataset)):\n",
    "\t\tvalue = dataset[i] - dataset[i - interval]\n",
    "\t\tdiff.append(value)\n",
    "\treturn Series(diff)"
   ]
  },
  {
   "cell_type": "code",
   "execution_count": 11,
   "metadata": {},
   "outputs": [],
   "source": [
    "# invert differenced value\n",
    "def inverse_difference(history, yhat, interval=1):\n",
    "\treturn yhat + history[-interval]"
   ]
  },
  {
   "cell_type": "code",
   "execution_count": 11,
   "metadata": {},
   "outputs": [],
   "source": [
    "# scale train and test data to [-1, 1]\n",
    "def scale(train, test):\n",
    "\t# fit scaler\n",
    "\tscaler = MinMaxScaler(feature_range=(-1, 1))\n",
    "\tscaler = scaler.fit(train)\n",
    "\t# transform train\n",
    "\ttrain = train.reshape(train.shape[0], train.shape[1])\n",
    "\ttrain_scaled = scaler.transform(train)\n",
    "\t# transform test\n",
    "\ttest = test.reshape(test.shape[0], test.shape[1])\n",
    "\ttest_scaled = scaler.transform(test)\n",
    "\treturn scaler, train_scaled, test_scaled"
   ]
  },
  {
   "cell_type": "code",
   "execution_count": 11,
   "metadata": {},
   "outputs": [],
   "source": [
    "# inverse scaling for a forecasted value\n",
    "def invert_scale(scaler, X, yhat):\n",
    "\tnew_row = [x for x in X] + [yhat]\n",
    "\tarray = numpy.array(new_row)\n",
    "\tarray = array.reshape(1, len(array))\n",
    "\tinverted = scaler.inverse_transform(array)\n",
    "\treturn inverted[0, -1]"
   ]
  },
  {
   "cell_type": "code",
   "execution_count": 11,
   "metadata": {},
   "outputs": [],
   "source": [
    "# fit an LSTM network to training data\n",
    "def fit_lstm(train, n_batch, nb_epoch, n_neurons):\n",
    "\tX, y = train[:, 0:-1], train[:, -1]\n",
    "\tX = X.reshape(X.shape[0], 1, X.shape[1])\n",
    "\tmodel = Sequential()\n",
    "\tmodel.add(LSTM(n_neurons, batch_input_shape=(n_batch, X.shape[1], X.shape[2]), stateful=True))\n",
    "\tmodel.add(Dense(1))\n",
    "\tmodel.compile(loss='mean_squared_error', optimizer='adam')\n",
    "\tfor i in range(nb_epoch):\n",
    "\t\tmodel.fit(X, y, epochs=1, batch_size=n_batch, verbose=0, shuffle=False)\n",
    "\t\tmodel.reset_states()\n",
    "\treturn model"
   ]
  },
  {
   "cell_type": "code",
   "execution_count": 11,
   "metadata": {},
   "outputs": [],
   "source": [
    "# run a repeated experiment\n",
    "def experiment(series, n_lag, n_repeats, n_epochs, n_batch, n_neurons):\n",
    "\t# transform data to be stationary\n",
    "\traw_values = series.values\n",
    "\tdiff_values = difference(raw_values, 1)\n",
    "\t# transform data to be supervised learning\n",
    "\tsupervised = timeseries_to_supervised(diff_values, n_lag)\n",
    "\tsupervised_values = supervised.values[n_lag:,:]\n",
    "\t# split data into train and test-sets\n",
    "\ttrain, test = supervised_values[0:-12], supervised_values[-12:]\n",
    "\t# transform the scale of the data\n",
    "\tscaler, train_scaled, test_scaled = scale(train, test)\n",
    "\t# run experiment\n",
    "\terror_scores = list()\n",
    "\tfor r in range(n_repeats):\n",
    "\t\t# fit the model\n",
    "\t\ttrain_trimmed = train_scaled[2:, :]\n",
    "\t\tlstm_model = fit_lstm(train_trimmed, n_batch, n_epochs, n_neurons)\n",
    "\t\t# forecast test dataset\n",
    "\t\ttest_reshaped = test_scaled[:,0:-1]\n",
    "\t\ttest_reshaped = test_reshaped.reshape(len(test_reshaped), 1, 1)\n",
    "\t\toutput = lstm_model.predict(test_reshaped, batch_size=n_batch)\n",
    "\t\tpredictions = list()\n",
    "\t\tfor i in range(len(output)):\n",
    "\t\t\tyhat = output[i,0]\n",
    "\t\t\tX = test_scaled[i, 0:-1]\n",
    "\t\t\t# invert scaling\n",
    "\t\t\tyhat = invert_scale(scaler, X, yhat)\n",
    "\t\t\t# invert differencing\n",
    "\t\t\tyhat = inverse_difference(raw_values, yhat, len(test_scaled)+1-i)\n",
    "\t\t\t# store forecast\n",
    "\t\t\tpredictions.append(yhat)\n",
    "\t\t# report performance\n",
    "\t\trmse = sqrt(mean_squared_error(raw_values[-12:], predictions))\n",
    "\t\tprint('%d) Test RMSE: %.3f' % (r+1, rmse))\n",
    "\t\terror_scores.append(rmse)\n",
    "\treturn error_scores"
   ]
  },
  {
   "cell_type": "code",
   "execution_count": 11,
   "metadata": {},
   "outputs": [],
   "source": [
    "# configure the experiment\n",
    "def run():\n",
    "\t# load dataset\n",
    "\tseries = read_csv('data/shampoo.csv', header=0, parse_dates=[0], index_col=0, squeeze=True, date_parser=parser)\n",
    "\t# configure the experiment\n",
    "\tn_lag = 1\n",
    "\tn_repeats = 5\n",
    "\tn_epochs = 5\n",
    "\tn_batch = 4\n",
    "\tn_neurons = 3\n",
    "\t# run the experiment\n",
    "\tresults = DataFrame()\n",
    "\tresults['results'] = experiment(series, n_lag, n_repeats, n_epochs, n_batch, n_neurons)\n",
    "\t# summarize results\n",
    "\tprint(results.describe())\n",
    "\t# save boxplot\n",
    "\tresults.boxplot()\n",
    "\tpyplot.savefig('experiment_baseline.png')"
   ]
  },
  {
   "cell_type": "code",
   "execution_count": 11,
   "metadata": {},
   "outputs": [
    {
     "name": "stdout",
     "output_type": "stream",
     "text": [
      "1) Test RMSE: 137.222\n",
      "2) Test RMSE: 128.747\n",
      "3) Test RMSE: 135.567\n",
      "4) Test RMSE: 137.910\n",
      "5) Test RMSE: 125.726\n",
      "6) Test RMSE: 131.636\n",
      "7) Test RMSE: 135.244\n",
      "8) Test RMSE: 140.844\n",
      "9) Test RMSE: 130.388\n",
      "10) Test RMSE: 159.611\n",
      "11) Test RMSE: 128.385\n",
      "12) Test RMSE: 144.837\n",
      "13) Test RMSE: 140.577\n",
      "14) Test RMSE: 142.959\n",
      "15) Test RMSE: 135.150\n",
      "16) Test RMSE: 134.668\n",
      "17) Test RMSE: 137.115\n",
      "18) Test RMSE: 128.800\n",
      "19) Test RMSE: 149.800\n",
      "20) Test RMSE: 127.157\n",
      "21) Test RMSE: 126.604\n",
      "22) Test RMSE: 122.036\n",
      "23) Test RMSE: 126.257\n",
      "24) Test RMSE: 134.184\n",
      "25) Test RMSE: 124.945\n",
      "26) Test RMSE: 118.329\n",
      "27) Test RMSE: 132.536\n",
      "28) Test RMSE: 131.579\n",
      "29) Test RMSE: 138.643\n",
      "30) Test RMSE: 132.201\n",
      "          results\n",
      "count   30.000000\n",
      "mean   133.988548\n",
      "std      8.454420\n",
      "min    118.328819\n",
      "25%    128.475013\n",
      "50%    133.359649\n",
      "75%    137.738357\n",
      "max    159.611285\n"
     ]
    },
    {
     "data": {
      "image/png": "[encoded data removed]",
      "text/plain": [
       "<Figure size 432x288 with 1 Axes>"
      ]
     },
     "metadata": {
      "needs_background": "light"
     },
     "output_type": "display_data"
    }
   ],
   "source": [
    "# entry point\n",
    "run()"
   ]
  },
  {
   "cell_type": "markdown",
   "metadata": {},
   "source": [
    "### Evaluation "
   ]
  },
  {
   "cell_type": "code",
   "execution_count": 12,
   "metadata": {},
   "outputs": [],
   "source": [
    "from pandas import DataFrame\n",
    "from pandas import Series\n",
    "from pandas import concat\n",
    "from pandas import read_csv\n",
    "from pandas import datetime\n",
    "from sklearn.metrics import mean_squared_error\n",
    "from sklearn.preprocessing import MinMaxScaler\n",
    "from tensorflow.keras.models import Sequential\n",
    "from tensorflow.keras.layers import Dense\n",
    "from tensorflow.keras.layers import LSTM\n",
    "from math import sqrt\n",
    "import matplotlib\n",
    "# be able to save images on server\n",
    "matplotlib.use('Agg')\n",
    "from matplotlib import pyplot\n",
    "import numpy"
   ]
  },
  {
   "cell_type": "code",
   "execution_count": 12,
   "metadata": {},
   "outputs": [],
   "source": [
    "# date-time parsing function for loading the dataset\n",
    "def parser(x):\n",
    "\treturn datetime.strptime('190'+x, '%Y-%m')"
   ]
  },
  {
   "cell_type": "code",
   "execution_count": 12,
   "metadata": {},
   "outputs": [],
   "source": [
    "# frame a sequence as a supervised learning problem\n",
    "def timeseries_to_supervised(data, lag=1):\n",
    "\tdf = DataFrame(data)\n",
    "\tcolumns = [df.shift(i) for i in range(1, lag+1)]\n",
    "\tcolumns.append(df)\n",
    "\tdf = concat(columns, axis=1)\n",
    "\treturn df"
   ]
  },
  {
   "cell_type": "code",
   "execution_count": 12,
   "metadata": {},
   "outputs": [],
   "source": [
    "# create a differenced series\n",
    "def difference(dataset, interval=1):\n",
    "\tdiff = list()\n",
    "\tfor i in range(interval, len(dataset)):\n",
    "\t\tvalue = dataset[i] - dataset[i - interval]\n",
    "\t\tdiff.append(value)\n",
    "\treturn Series(diff)"
   ]
  },
  {
   "cell_type": "code",
   "execution_count": 12,
   "metadata": {},
   "outputs": [],
   "source": [
    "# scale train and test data to [-1, 1]\n",
    "def scale(train, test):\n",
    "\t# fit scaler\n",
    "\tscaler = MinMaxScaler(feature_range=(-1, 1))\n",
    "\tscaler = scaler.fit(train)\n",
    "\t# transform train\n",
    "\ttrain = train.reshape(train.shape[0], train.shape[1])\n",
    "\ttrain_scaled = scaler.transform(train)\n",
    "\t# transform test\n",
    "\ttest = test.reshape(test.shape[0], test.shape[1])\n",
    "\ttest_scaled = scaler.transform(test)\n",
    "\treturn scaler, train_scaled, test_scaled"
   ]
  },
  {
   "cell_type": "code",
   "execution_count": 12,
   "metadata": {},
   "outputs": [],
   "source": [
    "# inverse scaling for a forecasted value\n",
    "def invert_scale(scaler, X, yhat):\n",
    "\tnew_row = [x for x in X] + [yhat]\n",
    "\tarray = numpy.array(new_row)\n",
    "\tarray = array.reshape(1, len(array))\n",
    "\tinverted = scaler.inverse_transform(array)\n",
    "\treturn inverted[0, -1]"
   ]
  },
  {
   "cell_type": "code",
   "execution_count": 12,
   "metadata": {},
   "outputs": [],
   "source": [
    "# evaluate the model on a dataset, returns RMSE in transformed units\n",
    "def evaluate(model, raw_data, scaled_dataset, scaler, offset, batch_size):\n",
    "\t# separate\n",
    "\tX, y = scaled_dataset[:,0:-1], scaled_dataset[:,-1]\n",
    "\t# reshape\n",
    "\treshaped = X.reshape(len(X), 1, 1)\n",
    "\t# forecast dataset\n",
    "\toutput = model.predict(reshaped, batch_size=batch_size)\n",
    "\t# invert data transforms on forecast\n",
    "\tpredictions = list()\n",
    "\tfor i in range(len(output)):\n",
    "\t\tyhat = output[i,0]\n",
    "\t\t# invert scaling\n",
    "\t\tyhat = invert_scale(scaler, X[i], yhat)\n",
    "\t\t# invert differencing\n",
    "\t\tyhat = yhat + raw_data[i]\n",
    "\t\t# store forecast\n",
    "\t\tpredictions.append(yhat)\n",
    "\t# report performance\n",
    "\trmse = sqrt(mean_squared_error(raw_data[1:], predictions))\n",
    "\t# reset model state\n",
    "\tmodel.reset_states()\n",
    "\treturn rmse"
   ]
  },
  {
   "cell_type": "code",
   "execution_count": 12,
   "metadata": {},
   "outputs": [],
   "source": [
    "# fit an LSTM network to training data\n",
    "def fit_lstm(train, test, raw, scaler, batch_size, nb_epoch, neurons):\n",
    "\tX, y = train[:, 0:-1], train[:, -1]\n",
    "\tX = X.reshape(X.shape[0], 1, X.shape[1])\n",
    "\t# prepare model\n",
    "\tmodel = Sequential()\n",
    "\tmodel.add(LSTM(neurons, batch_input_shape=(batch_size, X.shape[1], X.shape[2]), stateful=True))\n",
    "\tmodel.add(Dense(1))\n",
    "\tmodel.compile(loss='mean_squared_error', optimizer='adam')\n",
    "\t# fit model\n",
    "\ttrain_rmse, test_rmse = list(), list()\n",
    "\tfor i in range(nb_epoch):\n",
    "\t\tmodel.fit(X, y, epochs=1, batch_size=batch_size, verbose=0, shuffle=False)\n",
    "\t\tmodel.reset_states()\n",
    "\t\t# evaluate model on train data\n",
    "\t\traw_train = raw[-(len(train)+len(test)+1):-len(test)]\n",
    "\t\ttrain_rmse.append(evaluate(model, raw_train, train, scaler, 0, batch_size))\n",
    "\t\t# evaluate model on test data\n",
    "\t\traw_test = raw[-(len(test)+1):]\n",
    "\t\ttest_rmse.append(evaluate(model, raw_test, test, scaler, 0, batch_size))\n",
    "\thistory = DataFrame()\n",
    "\thistory['train'], history['test'] = train_rmse, test_rmse\n",
    "\treturn history"
   ]
  },
  {
   "cell_type": "code",
   "execution_count": 12,
   "metadata": {},
   "outputs": [],
   "source": [
    "# run diagnostic experiments\n",
    "def run():\n",
    "\t# config\n",
    "\tn_lag = 1\n",
    "\tn_repeats = 5\n",
    "\tn_epochs = 5\n",
    "\tn_batch = 4\n",
    "\tn_neurons = 3\n",
    "\t# load dataset\n",
    "\tseries = read_csv('data/shampoo.csv', header=0, parse_dates=[0], index_col=0, squeeze=True, date_parser=parser)\n",
    "\t# transform data to be stationary\n",
    "\traw_values = series.values\n",
    "\tdiff_values = difference(raw_values, 1)\n",
    "\t# transform data to be supervised learning\n",
    "\tsupervised = timeseries_to_supervised(diff_values, n_lag)\n",
    "\tsupervised_values = supervised.values[n_lag:,:]\n",
    "\t# split data into train and test-sets\n",
    "\ttrain, test = supervised_values[0:-12], supervised_values[-12:]\n",
    "\t# transform the scale of the data\n",
    "\tscaler, train_scaled, test_scaled = scale(train, test)\n",
    "\t# fit and evaluate model\n",
    "\ttrain_trimmed = train_scaled[2:, :]\n",
    "\t# run diagnostic tests\n",
    "\tfor i in range(n_repeats):\n",
    "\t\thistory = fit_lstm(train_trimmed, test_scaled, raw_values, scaler, n_batch, n_epochs, n_neurons)\n",
    "\t\tpyplot.plot(history['train'], color='blue')\n",
    "\t\tpyplot.plot(history['test'], color='orange')\n",
    "\t\tprint('%d) TrainRMSE=%f, TestRMSE=%f' % (i+1, history['train'].iloc[-1], history['test'].iloc[-1]))\n",
    "\tpyplot.savefig('diagnostic_baseline.png')"
   ]
  },
  {
   "cell_type": "code",
   "execution_count": 12,
   "metadata": {},
   "outputs": [
    {
     "name": "stdout",
     "output_type": "stream",
     "text": [
      "1) TrainRMSE=89.013722, TestRMSE=131.576194\n",
      "2) TrainRMSE=88.695386, TestRMSE=130.146087\n",
      "3) TrainRMSE=88.931687, TestRMSE=131.294474\n",
      "4) TrainRMSE=101.506521, TestRMSE=148.219614\n",
      "5) TrainRMSE=91.151394, TestRMSE=133.666481\n"
     ]
    },
    {
     "data": {
      "image/png": "[encoded data removed]",
      "text/plain": [
       "<Figure size 432x288 with 1 Axes>"
      ]
     },
     "metadata": {
      "needs_background": "light"
     },
     "output_type": "display_data"
    }
   ],
   "source": [
    "# entry point\n",
    "run()"
   ]
  },
  {
   "cell_type": "markdown",
   "metadata": {},
   "source": [
    "### Input Dropout"
   ]
  },
  {
   "cell_type": "code",
   "execution_count": 13,
   "metadata": {},
   "outputs": [],
   "source": [
    "# fit an LSTM network to training data\n",
    "def fit_lstm(train, n_batch, nb_epoch, n_neurons, dropout):\n",
    "\tX, y = train[:, 0:-1], train[:, -1]\n",
    "\tX = X.reshape(X.shape[0], 1, X.shape[1])\n",
    "\tmodel = Sequential()\n",
    "\tmodel.add(LSTM(n_neurons, batch_input_shape=(n_batch, X.shape[1], X.shape[2]), stateful=True, dropout=dropout))\n",
    "\tmodel.add(Dense(1))\n",
    "\tmodel.compile(loss='mean_squared_error', optimizer='adam')\n",
    "\tfor i in range(nb_epoch):\n",
    "\t\tmodel.fit(X, y, epochs=1, batch_size=n_batch, verbose=0, shuffle=False)\n",
    "\t\tmodel.reset_states()\n",
    "\treturn model"
   ]
  },
  {
   "cell_type": "code",
   "execution_count": 13,
   "metadata": {},
   "outputs": [],
   "source": [
    "# run a repeated experiment\n",
    "def experiment(series, n_lag, n_repeats, n_epochs, n_batch, n_neurons, dropout):\n",
    "\t# transform data to be stationary\n",
    "\traw_values = series.values\n",
    "\tdiff_values = difference(raw_values, 1)\n",
    "\t# transform data to be supervised learning\n",
    "\tsupervised = timeseries_to_supervised(diff_values, n_lag)\n",
    "\tsupervised_values = supervised.values[n_lag:,:]\n",
    "\t# split data into train and test-sets\n",
    "\ttrain, test = supervised_values[0:-12], supervised_values[-12:]\n",
    "\t# transform the scale of the data\n",
    "\tscaler, train_scaled, test_scaled = scale(train, test)\n",
    "\t# run experiment\n",
    "\terror_scores = list()\n",
    "\tfor r in range(n_repeats):\n",
    "\t\t# fit the model\n",
    "\t\ttrain_trimmed = train_scaled[2:, :]\n",
    "\t\tlstm_model = fit_lstm(train_trimmed, n_batch, n_epochs, n_neurons, dropout)\n",
    "\t\t# forecast test dataset\n",
    "\t\ttest_reshaped = test_scaled[:,0:-1]\n",
    "\t\ttest_reshaped = test_reshaped.reshape(len(test_reshaped), 1, 1)\n",
    "\t\toutput = lstm_model.predict(test_reshaped, batch_size=n_batch)\n",
    "\t\tpredictions = list()\n",
    "\t\tfor i in range(len(output)):\n",
    "\t\t\tyhat = output[i,0]\n",
    "\t\t\tX = test_scaled[i, 0:-1]\n",
    "\t\t\t# invert scaling\n",
    "\t\t\tyhat = invert_scale(scaler, X, yhat)\n",
    "\t\t\t# invert differencing\n",
    "\t\t\tyhat = inverse_difference(raw_values, yhat, len(test_scaled)+1-i)\n",
    "\t\t\t# store forecast\n",
    "\t\t\tpredictions.append(yhat)\n",
    "\t\t# report performance\n",
    "\t\trmse = sqrt(mean_squared_error(raw_values[-12:], predictions))\n",
    "\t\tprint('%d) Test RMSE: %.3f' % (r+1, rmse))\n",
    "\t\terror_scores.append(rmse)\n",
    "\treturn error_scores"
   ]
  },
  {
   "cell_type": "code",
   "execution_count": 13,
   "metadata": {},
   "outputs": [],
   "source": [
    "# configure the experiment\n",
    "def run():\n",
    "\t# load dataset\n",
    "\tseries = read_csv('data/shampoo.csv', header=0, parse_dates=[0], index_col=0, squeeze=True, date_parser=parser)\n",
    "\t# configure the experiment\n",
    "\tn_lag = 1\n",
    "\tn_repeats = 5\n",
    "\tn_epochs = 5\n",
    "\tn_batch = 4\n",
    "\tn_neurons = 3\n",
    "\tn_dropout = [0.0, 0.2, 0.4, 0.6]\n",
    "\t# run the experiment\n",
    "\tresults = DataFrame()\n",
    "\tfor dropout in n_dropout:\n",
    "\t\tresults[str(dropout)] = experiment(series, n_lag, n_repeats, n_epochs, n_batch, n_neurons, dropout)\n",
    "\t# summarize results\n",
    "\tprint(results.describe())\n",
    "\t# save boxplot\n",
    "\tresults.boxplot()\n",
    "\tpyplot.savefig('experiment_dropout_input.png')\n",
    "    "
   ]
  },
  {
   "cell_type": "code",
   "execution_count": 13,
   "metadata": {},
   "outputs": [
    {
     "name": "stdout",
     "output_type": "stream",
     "text": [
      "1) Test RMSE: 129.450\n",
      "2) Test RMSE: 136.616\n",
      "3) Test RMSE: 122.478\n",
      "4) Test RMSE: 133.163\n"
     ]
    },
    {
     "name": "stderr",
     "output_type": "stream",
     "text": [
      "WARNING: Logging before flag parsing goes to stderr.\n",
      "W0601 11:15:15.993562 4599838144 deprecation.py:506] From /Users/bargava/anaconda3/lib/python3.6/site-packages/tensorflow/python/keras/backend.py:4081: calling dropout (from tensorflow.python.ops.nn_ops) with keep_prob is deprecated and will be removed in a future version.\n",
      "Instructions for updating:\n",
      "Please use `rate` instead of `keep_prob`. Rate should be set to `rate = 1 - keep_prob`.\n"
     ]
    },
    {
     "name": "stdout",
     "output_type": "stream",
     "text": [
      "5) Test RMSE: 140.781\n",
      "1) Test RMSE: 146.758\n",
      "2) Test RMSE: 123.982\n",
      "3) Test RMSE: 135.483\n",
      "4) Test RMSE: 148.908\n",
      "5) Test RMSE: 131.522\n",
      "1) Test RMSE: 131.415\n",
      "2) Test RMSE: 135.921\n",
      "3) Test RMSE: 152.006\n",
      "4) Test RMSE: 127.188\n",
      "5) Test RMSE: 123.428\n",
      "1) Test RMSE: 128.192\n",
      "2) Test RMSE: 132.113\n",
      "3) Test RMSE: 127.939\n",
      "4) Test RMSE: 137.450\n",
      "5) Test RMSE: 129.436\n",
      "              0.0         0.2         0.4         0.6\n",
      "count    5.000000    5.000000    5.000000    5.000000\n",
      "mean   132.497777  137.330533  133.991520  131.026009\n",
      "std      6.994764   10.467070   11.099206    3.954269\n",
      "min    122.477801  123.982147  123.428165  127.938783\n",
      "25%    129.450371  131.521715  127.187508  128.191515\n",
      "50%    133.163380  135.483334  131.415082  129.436190\n",
      "75%    136.615978  146.757593  135.920576  132.113399\n",
      "max    140.781356  148.907876  152.006269  137.450161\n"
     ]
    },
    {
     "data": {
      "image/png": "[encoded data removed]",
      "text/plain": [
       "<Figure size 432x288 with 1 Axes>"
      ]
     },
     "metadata": {
      "needs_background": "light"
     },
     "output_type": "display_data"
    }
   ],
   "source": [
    "run()"
   ]
  },
  {
   "cell_type": "markdown",
   "metadata": {},
   "source": [
    "### Recurrent dropout"
   ]
  },
  {
   "cell_type": "code",
   "execution_count": 15,
   "metadata": {},
   "outputs": [],
   "source": [
    "# fit an LSTM network to training data\n",
    "def fit_lstm(train, n_batch, nb_epoch, n_neurons, dropout):\n",
    "\tX, y = train[:, 0:-1], train[:, -1]\n",
    "\tX = X.reshape(X.shape[0], 1, X.shape[1])\n",
    "\tmodel = Sequential()\n",
    "\tmodel.add(LSTM(n_neurons, batch_input_shape=(n_batch, X.shape[1], X.shape[2]), stateful=True, recurrent_dropout=dropout))\n",
    "\tmodel.add(Dense(1))\n",
    "\tmodel.compile(loss='mean_squared_error', optimizer='adam')\n",
    "\tfor i in range(nb_epoch):\n",
    "\t\tmodel.fit(X, y, epochs=1, batch_size=n_batch, verbose=0, shuffle=False)\n",
    "\t\tmodel.reset_states()\n",
    "\treturn model"
   ]
  },
  {
   "cell_type": "code",
   "execution_count": 15,
   "metadata": {},
   "outputs": [],
   "source": [
    "# run a repeated experiment\n",
    "def experiment(series, n_lag, n_repeats, n_epochs, n_batch, n_neurons, dropout):\n",
    "\t# transform data to be stationary\n",
    "\traw_values = series.values\n",
    "\tdiff_values = difference(raw_values, 1)\n",
    "\t# transform data to be supervised learning\n",
    "\tsupervised = timeseries_to_supervised(diff_values, n_lag)\n",
    "\tsupervised_values = supervised.values[n_lag:,:]\n",
    "\t# split data into train and test-sets\n",
    "\ttrain, test = supervised_values[0:-12], supervised_values[-12:]\n",
    "\t# transform the scale of the data\n",
    "\tscaler, train_scaled, test_scaled = scale(train, test)\n",
    "\t# run experiment\n",
    "\terror_scores = list()\n",
    "\tfor r in range(n_repeats):\n",
    "\t\t# fit the model\n",
    "\t\ttrain_trimmed = train_scaled[2:, :]\n",
    "\t\tlstm_model = fit_lstm(train_trimmed, n_batch, n_epochs, n_neurons, dropout)\n",
    "\t\t# forecast test dataset\n",
    "\t\ttest_reshaped = test_scaled[:,0:-1]\n",
    "\t\ttest_reshaped = test_reshaped.reshape(len(test_reshaped), 1, 1)\n",
    "\t\toutput = lstm_model.predict(test_reshaped, batch_size=n_batch)\n",
    "\t\tpredictions = list()\n",
    "\t\tfor i in range(len(output)):\n",
    "\t\t\tyhat = output[i,0]\n",
    "\t\t\tX = test_scaled[i, 0:-1]\n",
    "\t\t\t# invert scaling\n",
    "\t\t\tyhat = invert_scale(scaler, X, yhat)\n",
    "\t\t\t# invert differencing\n",
    "\t\t\tyhat = inverse_difference(raw_values, yhat, len(test_scaled)+1-i)\n",
    "\t\t\t# store forecast\n",
    "\t\t\tpredictions.append(yhat)\n",
    "\t\t# report performance\n",
    "\t\trmse = sqrt(mean_squared_error(raw_values[-12:], predictions))\n",
    "\t\tprint('%d) Test RMSE: %.3f' % (r+1, rmse))\n",
    "\t\terror_scores.append(rmse)\n",
    "\treturn error_scores"
   ]
  },
  {
   "cell_type": "code",
   "execution_count": 15,
   "metadata": {},
   "outputs": [
    {
     "name": "stdout",
     "output_type": "stream",
     "text": [
      "1) Test RMSE: 138.266\n",
      "2) Test RMSE: 129.756\n",
      "3) Test RMSE: 124.681\n",
      "4) Test RMSE: 132.928\n",
      "5) Test RMSE: 130.314\n",
      "1) Test RMSE: 122.707\n",
      "2) Test RMSE: 130.469\n",
      "3) Test RMSE: 129.674\n",
      "4) Test RMSE: 130.402\n",
      "5) Test RMSE: 147.296\n",
      "1) Test RMSE: 126.400\n",
      "2) Test RMSE: 121.290\n",
      "3) Test RMSE: 131.477\n",
      "4) Test RMSE: 134.630\n",
      "5) Test RMSE: 131.718\n",
      "1) Test RMSE: 136.480\n",
      "2) Test RMSE: 124.821\n",
      "3) Test RMSE: 135.525\n",
      "4) Test RMSE: 134.020\n",
      "5) Test RMSE: 128.994\n",
      "              0.0         0.2         0.4         0.6\n",
      "count    5.000000    5.000000    5.000000    5.000000\n",
      "mean   131.189061  132.109697  129.103009  131.968030\n",
      "std      4.956789    9.090807    5.276471    4.928182\n",
      "min    124.681229  122.707301  121.290156  124.820949\n",
      "25%    129.755873  129.674184  126.400421  128.993881\n",
      "50%    130.313861  130.402008  131.476647  134.020216\n",
      "75%    132.928434  130.468921  131.717666  135.525381\n",
      "max    138.265907  147.296072  134.630153  136.479724\n"
     ]
    },
    {
     "data": {
      "image/png": "[encoded data removed]",
      "text/plain": [
       "<Figure size 432x288 with 1 Axes>"
      ]
     },
     "metadata": {
      "needs_background": "light"
     },
     "output_type": "display_data"
    }
   ],
   "source": [
    "# configure the experiment\n",
    "def run():\n",
    "\t# load dataset\n",
    "\tseries = read_csv('data/shampoo.csv', header=0, parse_dates=[0], index_col=0, squeeze=True, date_parser=parser)\n",
    "\t# configure the experiment\n",
    "\tn_lag = 1\n",
    "\tn_repeats = 5\n",
    "\tn_epochs = 5\n",
    "\tn_batch = 4\n",
    "\tn_neurons = 3\n",
    "\tn_dropout = [0.0, 0.2, 0.4, 0.6]\n",
    "\t# run the experiment\n",
    "\tresults = DataFrame()\n",
    "\tfor dropout in n_dropout:\n",
    "\t\tresults[str(dropout)] = experiment(series, n_lag, n_repeats, n_epochs, n_batch, n_neurons, dropout)\n",
    "\t# summarize results\n",
    "\tprint(results.describe())\n",
    "\t# save boxplot\n",
    "\tresults.boxplot()\n",
    "\tpyplot.savefig('experiment_dropout_recurrent.png')\n",
    "    \n",
    "run()"
   ]
  },
  {
   "cell_type": "markdown",
   "metadata": {},
   "source": [
    "### Comparison to baseline"
   ]
  },
  {
   "cell_type": "code",
   "execution_count": 17,
   "metadata": {},
   "outputs": [],
   "source": [
    "# fit an LSTM network to training data\n",
    "def fit_lstm(train, test, raw, scaler, batch_size, nb_epoch, neurons, dropout):\n",
    "\tX, y = train[:, 0:-1], train[:, -1]\n",
    "\tX = X.reshape(X.shape[0], 1, X.shape[1])\n",
    "\t# prepare model\n",
    "\tmodel = Sequential()\n",
    "\tmodel.add(LSTM(neurons, batch_input_shape=(batch_size, X.shape[1], X.shape[2]), stateful=True, recurrent_dropout=dropout))\n",
    "\tmodel.add(Dense(1))\n",
    "\tmodel.compile(loss='mean_squared_error', optimizer='adam')\n",
    "\t# fit model\n",
    "\ttrain_rmse, test_rmse = list(), list()\n",
    "\tfor i in range(nb_epoch):\n",
    "\t\tmodel.fit(X, y, epochs=1, batch_size=batch_size, verbose=0, shuffle=False)\n",
    "\t\tmodel.reset_states()\n",
    "\t\t# evaluate model on train data\n",
    "\t\traw_train = raw[-(len(train)+len(test)+1):-len(test)]\n",
    "\t\ttrain_rmse.append(evaluate(model, raw_train, train, scaler, 0, batch_size))\n",
    "\t\t# evaluate model on test data\n",
    "\t\traw_test = raw[-(len(test)+1):]\n",
    "\t\ttest_rmse.append(evaluate(model, raw_test, test, scaler, 0, batch_size))\n",
    "\thistory = DataFrame()\n",
    "\thistory['train'], history['test'] = train_rmse, test_rmse\n",
    "\treturn history"
   ]
  },
  {
   "cell_type": "code",
   "execution_count": 18,
   "metadata": {},
   "outputs": [],
   "source": [
    "# run diagnostic experiments\n",
    "def run():\n",
    "\t# config\n",
    "\tn_lag = 1\n",
    "\tn_repeats = 10\n",
    "\tn_epochs = 1000\n",
    "\tn_batch = 4\n",
    "\tn_neurons = 3\n",
    "\tdropout = 0.4\n",
    "\t# load dataset\n",
    "\tseries = read_csv('data/shampoo.csv', header=0, parse_dates=[0], index_col=0, squeeze=True, date_parser=parser)\n",
    "\t# transform data to be stationary\n",
    "\traw_values = series.values\n",
    "\tdiff_values = difference(raw_values, 1)\n",
    "\t# transform data to be supervised learning\n",
    "\tsupervised = timeseries_to_supervised(diff_values, n_lag)\n",
    "\tsupervised_values = supervised.values[n_lag:,:]\n",
    "\t# split data into train and test-sets\n",
    "\ttrain, test = supervised_values[0:-12], supervised_values[-12:]\n",
    "\t# transform the scale of the data\n",
    "\tscaler, train_scaled, test_scaled = scale(train, test)\n",
    "\t# fit and evaluate model\n",
    "\ttrain_trimmed = train_scaled[2:, :]\n",
    "\t# run diagnostic tests\n",
    "\tfor i in range(n_repeats):\n",
    "\t\thistory = fit_lstm(train_trimmed, test_scaled, raw_values, scaler, n_batch, n_epochs, n_neurons, dropout)\n",
    "\t\tpyplot.plot(history['train'], color='blue')\n",
    "\t\tpyplot.plot(history['test'], color='orange')\n",
    "\t\tprint('%d) TrainRMSE=%f, TestRMSE=%f' % (i+1, history['train'].iloc[-1], history['test'].iloc[-1]))\n",
    "\tpyplot.savefig('diagnostic_dropout_recurrent.png')\n",
    " "
   ]
  },
  {
   "cell_type": "code",
   "execution_count": 19,
   "metadata": {},
   "outputs": [
    {
     "name": "stdout",
     "output_type": "stream",
     "text": [
      "1) TrainRMSE=57.061417, TestRMSE=96.351091\n",
      "2) TrainRMSE=58.533706, TestRMSE=93.088980\n",
      "3) TrainRMSE=59.225100, TestRMSE=94.538009\n",
      "4) TrainRMSE=58.896696, TestRMSE=95.216141\n",
      "5) TrainRMSE=59.082575, TestRMSE=97.284028\n",
      "6) TrainRMSE=58.237347, TestRMSE=101.244749\n",
      "7) TrainRMSE=58.603615, TestRMSE=89.756791\n",
      "8) TrainRMSE=59.781443, TestRMSE=86.135846\n",
      "9) TrainRMSE=59.343616, TestRMSE=87.829998\n",
      "10) TrainRMSE=58.473215, TestRMSE=98.068618\n"
     ]
    },
    {
     "data": {
      "image/png": "[encoded data removed]",
      "text/plain": [
       "<Figure size 432x288 with 1 Axes>"
      ]
     },
     "metadata": {
      "needs_background": "light"
     },
     "output_type": "display_data"
    }
   ],
   "source": [
    "run()"
   ]
  },
  {
   "cell_type": "code",
   "execution_count": null,
   "metadata": {},
   "outputs": [],
   "source": []
  }
 ],
 "metadata": {
  "kernelspec": {
   "display_name": "Python 3",
   "language": "python",
   "name": "python3"
  },
  "language_info": {
   "codemirror_mode": {
    "name": "ipython",
    "version": 3
   },
   "file_extension": ".py",
   "mimetype": "text/x-python",
   "name": "python",
   "nbconvert_exporter": "python",
   "pygments_lexer": "ipython3",
   "version": "3.6.7"
  }
 },
 "nbformat": 4,
 "nbformat_minor": 2
}
